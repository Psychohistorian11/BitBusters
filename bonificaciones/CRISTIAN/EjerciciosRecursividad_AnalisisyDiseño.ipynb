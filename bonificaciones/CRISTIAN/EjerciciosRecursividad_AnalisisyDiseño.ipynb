{
  "nbformat": 4,
  "nbformat_minor": 0,
  "metadata": {
    "colab": {
      "provenance": [],
      "authorship_tag": "ABX9TyOrsPK+WXfSr19SEbkTqX2e",
      "include_colab_link": true
    },
    "kernelspec": {
      "name": "python3",
      "display_name": "Python 3"
    },
    "language_info": {
      "name": "python"
    }
  },
  "cells": [
    {
      "cell_type": "markdown",
      "metadata": {
        "id": "view-in-github",
        "colab_type": "text"
      },
      "source": [
        "<a href=\"https://colab.research.google.com/github/Psychohistorian11/BitBusters/blob/master/EjerciciosRecursividad_AnalisisyDise%C3%B1o.ipynb\" target=\"_parent\"><img src=\"https://colab.research.google.com/assets/colab-badge.svg\" alt=\"Open In Colab\"/></a>"
      ]
    },
    {
      "cell_type": "code",
      "execution_count": 2,
      "metadata": {
        "colab": {
          "base_uri": "https://localhost:8080/"
        },
        "id": "xFovIIFCzEEz",
        "outputId": "ef75dace-97e7-4438-fee4-b14c406129ff"
      },
      "outputs": [
        {
          "output_type": "stream",
          "name": "stdout",
          "text": [
            "6\n"
          ]
        }
      ],
      "source": [
        "def leng(string, aux = 0):\n",
        "    if len(string) == 0:\n",
        "        return aux\n",
        "    else:\n",
        "        aux = aux + 1\n",
        "        return leng(string[1:],aux)\n",
        "\n",
        "print(leng(\"Andres\"))"
      ]
    },
    {
      "cell_type": "code",
      "source": [
        "def InvertString(string, aux = \"\"):\n",
        "    if len(string) == 0:\n",
        "        return aux\n",
        "    else:\n",
        "        aux = aux + string[-1]\n",
        "        return InvertString(string[:-1], aux)\n",
        "\n",
        "\n",
        "print(InvertString(\"Hola\"))"
      ],
      "metadata": {
        "colab": {
          "base_uri": "https://localhost:8080/"
        },
        "id": "RfRVdiEozb0R",
        "outputId": "29f53c75-7240-48b1-bce9-34395488a531"
      },
      "execution_count": 1,
      "outputs": [
        {
          "output_type": "stream",
          "name": "stdout",
          "text": [
            "nóicadnuf al a oidulerP\n"
          ]
        }
      ]
    },
    {
      "cell_type": "code",
      "source": [
        "def bubble_sort(arr): # 0(n*n)\n",
        "    n = len(arr) #0(1)\n",
        "    for i in range(n): #0(n)\n",
        "        for j in range(0, n-i-1): #(n*n)\n",
        "            if arr[j] > arr[j+1]: #(n*n)\n",
        "                arr[j], arr[j+1] = arr[j+1], arr[j] #(n*n)\n",
        "\n",
        "# Ejemplo de uso:\n",
        "lista = [64, 34, 25, 12, 22, 11, 90] # 0(1)\n",
        "bubble_sort(lista) # 0(n*n)\n",
        "print(\"Lista ordenada:\", lista) #0(1)\n",
        "\n",
        "#Ecuación = 2 0(1) + 2 0(n*n)"
      ],
      "metadata": {
        "id": "OvVFzwGYzb61"
      },
      "execution_count": null,
      "outputs": []
    }
  ]
}