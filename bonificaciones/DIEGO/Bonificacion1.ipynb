{
  "nbformat": 4,
  "nbformat_minor": 0,
  "metadata": {
    "colab": {
      "provenance": [],
      "authorship_tag": "ABX9TyNn8/L0iDJHHDdie/569Xg6",
      "include_colab_link": true
    },
    "kernelspec": {
      "name": "python3",
      "display_name": "Python 3"
    },
    "language_info": {
      "name": "python"
    }
  },
  "cells": [
    {
      "cell_type": "markdown",
      "metadata": {
        "id": "view-in-github",
        "colab_type": "text"
      },
      "source": [
        "<a href=\"https://colab.research.google.com/github/Psychohistorian11/BitBusters/blob/master/Bonificacion1.ipynb\" target=\"_parent\"><img src=\"https://colab.research.google.com/assets/colab-badge.svg\" alt=\"Open In Colab\"/></a>"
      ]
    },
    {
      "cell_type": "code",
      "execution_count": null,
      "metadata": {
        "id": "-efu9SvAykGS"
      },
      "outputs": [],
      "source": [
        "def longitud(string, tam= 0):\n",
        "  if string == \"\":\n",
        "    return tam\n",
        "\n",
        "  else:\n",
        "    tam += 1\n",
        "    return longitud(string[1:],tam)\n",
        "\n",
        "\n",
        "longitud(\"Camilo\")"
      ]
    },
    {
      "cell_type": "code",
      "source": [
        "def reversar(string, rev=\"\"):\n",
        "  if string == \"\":\n",
        "    return rev\n",
        "\n",
        "  else:\n",
        "    rev += string[-1]\n",
        "    return reversar(string[:(len(string)-1)],rev)\n",
        "\n",
        "reversar(\"Juan Camilo DaviD\")"
      ],
      "metadata": {
        "colab": {
          "base_uri": "https://localhost:8080/",
          "height": 36
        },
        "id": "0wSWF7_2y9rd",
        "outputId": "33d7e6d2-a36e-4e5c-a2c5-aa23ccceb410"
      },
      "execution_count": 5,
      "outputs": [
        {
          "output_type": "execute_result",
          "data": {
            "text/plain": [
              "'DivaD olimaC nauJ'"
            ],
            "application/vnd.google.colaboratory.intrinsic+json": {
              "type": "string"
            }
          },
          "metadata": {},
          "execution_count": 5
        }
      ]
    },
    {
      "cell_type": "code",
      "source": [
        "st = \"Juan Camilo\"\n",
        "len(st)"
      ],
      "metadata": {
        "colab": {
          "base_uri": "https://localhost:8080/"
        },
        "id": "uRZJTiMN0fmO",
        "outputId": "174fa7f5-c84a-4c34-a581-93d875f928f4"
      },
      "execution_count": 4,
      "outputs": [
        {
          "output_type": "execute_result",
          "data": {
            "text/plain": [
              "11"
            ]
          },
          "metadata": {},
          "execution_count": 4
        }
      ]
    }
  ]
}