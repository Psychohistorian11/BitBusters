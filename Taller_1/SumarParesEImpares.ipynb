{
  "nbformat": 4,
  "nbformat_minor": 0,
  "metadata": {
    "colab": {
      "provenance": [],
      "authorship_tag": "ABX9TyNcQhRI9d1Gj+AGfcWzmkQB",
      "include_colab_link": true
    },
    "kernelspec": {
      "name": "python3",
      "display_name": "Python 3"
    },
    "language_info": {
      "name": "python"
    }
  },
  "cells": [
    {
      "cell_type": "markdown",
      "metadata": {
        "id": "view-in-github",
        "colab_type": "text"
      },
      "source": [
        "<a href=\"https://colab.research.google.com/github/Psychohistorian11/BitBusters/blob/master/Taller_1/SumarParesEImpares.ipynb\" target=\"_parent\"><img src=\"https://colab.research.google.com/assets/colab-badge.svg\" alt=\"Open In Colab\"/></a>"
      ]
    },
    {
      "cell_type": "code",
      "execution_count": 3,
      "metadata": {
        "id": "UgW_4tr4W6RQ",
        "colab": {
          "base_uri": "https://localhost:8080/"
        },
        "outputId": "603ceec2-b1c1-4f38-fc0b-ed77d88769aa"
      },
      "outputs": [
        {
          "output_type": "stream",
          "name": "stdout",
          "text": [
            "Esta es la suma de los pares 12\n",
            "Esta es la suma de los Impares 8\n"
          ]
        }
      ],
      "source": [
        "def sumarParesImpares(num_inicio, num_final, sumaPar=0, sumaImpar=0):\n",
        "    if num_inicio == num_final:\n",
        "        if num_inicio % 2 == 0:\n",
        "            return num_inicio + sumaPar, sumaImpar\n",
        "        return sumaPar, num_inicio + sumaImpar\n",
        "    else:\n",
        "        if num_inicio % 2 == 0:\n",
        "            return sumarParesImpares(num_inicio+1, num_final, sumaPar+num_inicio, sumaImpar)\n",
        "        return sumarParesImpares(num_inicio+1, num_final, sumaPar, sumaImpar+num_inicio)\n",
        "\n",
        "sumaPar, sumaImpar = sumarParesImpares(2,6)\n",
        "print(f\"Esta es la suma de los pares {sumaPar}\")\n",
        "print(f\"Esta es la suma de los Impares {sumaImpar}\")\n"
      ]
    }
  ]
}