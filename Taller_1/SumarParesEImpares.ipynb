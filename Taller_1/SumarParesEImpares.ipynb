{
  "cells": [
    {
      "cell_type": "markdown",
      "metadata": {
        "colab_type": "text",
        "id": "view-in-github"
      },
      "source": [
        "<a href=\"https://colab.research.google.com/github/Psychohistorian11/BitBusters/blob/master/Taller_1/SumarParesEImpares.ipynb\" target=\"_parent\"><img src=\"https://colab.research.google.com/assets/colab-badge.svg\" alt=\"Open In Colab\"/></a>"
      ]
    },
    {
      "cell_type": "code",
      "execution_count": 1,
      "metadata": {
        "colab": {
          "base_uri": "https://localhost:8080/"
        },
        "id": "UgW_4tr4W6RQ",
        "outputId": "603ceec2-b1c1-4f38-fc0b-ed77d88769aa"
      },
      "outputs": [
        {
          "name": "stdout",
          "output_type": "stream",
          "text": [
            "Esta es la suma de los pares 12\n",
            "Esta es la suma de los Impares 8\n"
          ]
        }
      ],
      "source": [
        "def sumarParesImpares(num_inicio, num_final, sumaPar=0, sumaImpar=0):\n",
        "    if num_inicio == num_final:\n",
        "        if num_inicio % 2 == 0:\n",
        "            sumaPar = sumaPar +num_inicio\n",
        "            return (sumaPar, sumaImpar)\n",
        "        else:\n",
        "            sumaImpar = num_inicio+sumaImpar\n",
        "            return (sumaPar, sumaImpar)\n",
        "    else:\n",
        "        if num_inicio % 2 == 0:\n",
        "            sumaPar = sumaPar +num_inicio\n",
        "            return sumarParesImpares(num_inicio+1, num_final, sumaPar, sumaImpar)\n",
        "        else:\n",
        "            sumaImpar = sumaImpar+num_inicio\n",
        "            return sumarParesImpares(num_inicio+1, num_final, sumaPar, sumaImpar)\n",
        "\n",
        "sumaPar, sumaImpar = sumarParesImpares(2,6)\n",
        "print(f\"Esta es la suma de los pares {sumaPar}\")\n",
        "print(f\"Esta es la suma de los Impares {sumaImpar}\")\n"
      ]
    }
  ],
  "metadata": {
    "colab": {
      "authorship_tag": "ABX9TyNcQhRI9d1Gj+AGfcWzmkQB",
      "include_colab_link": true,
      "provenance": []
    },
    "kernelspec": {
      "display_name": "Python 3",
      "name": "python3"
    },
    "language_info": {
      "codemirror_mode": {
        "name": "ipython",
        "version": 3
      },
      "file_extension": ".py",
      "mimetype": "text/x-python",
      "name": "python",
      "nbconvert_exporter": "python",
      "pygments_lexer": "ipython3",
      "version": "3.10.9"
    }
  },
  "nbformat": 4,
  "nbformat_minor": 0
}
