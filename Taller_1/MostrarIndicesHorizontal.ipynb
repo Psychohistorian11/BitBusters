{
  "nbformat": 4,
  "nbformat_minor": 0,
  "metadata": {
    "colab": {
      "provenance": [],
      "authorship_tag": "ABX9TyMqD51uEI4xI44qThN8ZgXs",
      "include_colab_link": true
    },
    "kernelspec": {
      "name": "python3",
      "display_name": "Python 3"
    },
    "language_info": {
      "name": "python"
    }
  },
  "cells": [
    {
      "cell_type": "markdown",
      "metadata": {
        "id": "view-in-github",
        "colab_type": "text"
      },
      "source": [
        "<a href=\"https://colab.research.google.com/github/Psychohistorian11/BitBusters/blob/master/Taller_1/MostrarIndicesHorizontal.ipynb\" target=\"_parent\"><img src=\"https://colab.research.google.com/assets/colab-badge.svg\" alt=\"Open In Colab\"/></a>"
      ]
    },
    {
      "cell_type": "code",
      "execution_count": null,
      "metadata": {
        "id": "C-jbDZSqQSkm"
      },
      "outputs": [],
      "source": [
        "def mostrarIndices(n, m):\n",
        "    for i in range(n-1):\n",
        "        if i % 2 == 0:\n",
        "            for j in range(m+1):\n",
        "                print(f\"[{i}][{j}]\")\n",
        "        else:\n",
        "            for j in range(m, -1, -1):\n",
        "                print(f\"[{i}][{j}]\")\n",
        "\n",
        "mostrarIndices(5,3)"
      ]
    }
  ]
}