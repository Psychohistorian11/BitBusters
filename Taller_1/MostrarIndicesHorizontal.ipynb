{
  "nbformat": 4,
  "nbformat_minor": 0,
  "metadata": {
    "colab": {
      "provenance": []
    },
    "kernelspec": {
      "name": "python3",
      "display_name": "Python 3"
    },
    "language_info": {
      "name": "python"
    }
  },
  "cells": [
    {
      "cell_type": "code",
      "execution_count": 14,
      "metadata": {
        "id": "C-jbDZSqQSkm",
        "outputId": "fdf03ff9-c020-423d-ae35-ce3899f0c571",
        "colab": {
          "base_uri": "https://localhost:8080/"
        }
      },
      "outputs": [
        {
          "output_type": "stream",
          "name": "stdout",
          "text": [
            " fila = [0], columna =[0]\n",
            " fila = [0], columna =[1]\n",
            " fila = [0], columna =[2]\n",
            " fila = [0], columna =[3]\n",
            "fila = [1], columna =[3]\n",
            "fila = [1], columna =[2]\n",
            "fila = [1], columna =[1]\n",
            "fila = [1], columna =[0]\n",
            " fila = [2], columna =[0]\n",
            " fila = [2], columna =[1]\n",
            " fila = [2], columna =[2]\n",
            " fila = [2], columna =[3]\n",
            "fila = [3], columna =[3]\n",
            "fila = [3], columna =[2]\n",
            "fila = [3], columna =[1]\n",
            "fila = [3], columna =[0]\n"
          ]
        }
      ],
      "source": [
        "def mostrarIndices(filas, columnas):\n",
        "    for i in range(filas):\n",
        "        if i % 2 == 0:\n",
        "            for j in range(columnas):\n",
        "                print(f\" fila = [{i}], columna =[{j}]\")\n",
        "        else:\n",
        "            for j in range(columnas-1, -1, -1):\n",
        "                print(f\"fila = [{i}], columna =[{j}]\")\n",
        "\n",
        "mostrarIndices(4,4)"
      ]
    }
  ]
}