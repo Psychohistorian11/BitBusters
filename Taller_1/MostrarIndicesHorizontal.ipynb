{
  "nbformat": 4,
  "nbformat_minor": 0,
  "metadata": {
    "colab": {
      "provenance": [],
      "authorship_tag": "ABX9TyOhpEHNPBSp+HPPfB5sBfKz",
      "include_colab_link": true
    },
    "kernelspec": {
      "name": "python3",
      "display_name": "Python 3"
    },
    "language_info": {
      "name": "python"
    }
  },
  "cells": [
    {
      "cell_type": "markdown",
      "metadata": {
        "id": "view-in-github",
        "colab_type": "text"
      },
      "source": [
        "<a href=\"https://colab.research.google.com/github/Psychohistorian11/BitBusters/blob/master/Taller_1/MostrarIndicesHorizontal.ipynb\" target=\"_parent\"><img src=\"https://colab.research.google.com/assets/colab-badge.svg\" alt=\"Open In Colab\"/></a>"
      ]
    },
    {
      "cell_type": "code",
      "source": [
        "def mostrarIndices(filas, columnas): # O(n^2)\n",
        "  for i in range(filas):    # O(n)\n",
        "    if i % 2 == 0:     # O(n)\n",
        "      for j in range(columnas):  # O(n^2)\n",
        "        print(f\"fila = [{i}], columna =[{j}]\") # O(n^2)\n",
        "    else: # O(n)\n",
        "      for j in range(columnas-1, -1, -1): # O(n^2)\n",
        "        print(f\"fila = [{i}], columna =[{j}]\") # O(n^2)\n",
        "\n",
        "mostrarIndices(2,3) # O(n^2)\n",
        "\n",
        "# Ecuación =  2 O(n^2)\n",
        "# Complejidad del algoritmo = n^2"
      ],
      "metadata": {
        "colab": {
          "base_uri": "https://localhost:8080/"
        },
        "id": "BjpyIoJCSUDP",
        "outputId": "68133bef-47f4-49d1-ae9c-6b158e474576"
      },
      "execution_count": 6,
      "outputs": [
        {
          "output_type": "stream",
          "name": "stdout",
          "text": [
            "fila = [0], columna =[0]\n",
            "fila = [0], columna =[1]\n",
            "fila = [0], columna =[2]\n",
            "fila = [1], columna =[2]\n",
            "fila = [1], columna =[1]\n",
            "fila = [1], columna =[0]\n"
          ]
        }
      ]
    }
  ]
}