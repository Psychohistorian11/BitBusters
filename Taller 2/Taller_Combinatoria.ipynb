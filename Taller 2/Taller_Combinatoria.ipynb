{
  "nbformat": 4,
  "nbformat_minor": 0,
  "metadata": {
    "colab": {
      "provenance": [],
      "include_colab_link": true
    },
    "kernelspec": {
      "name": "python3",
      "display_name": "Python 3"
    },
    "language_info": {
      "name": "python"
    }
  },
  "cells": [
    {
      "cell_type": "markdown",
      "metadata": {
        "id": "view-in-github",
        "colab_type": "text"
      },
      "source": [
        "<a href=\"https://colab.research.google.com/github/Psychohistorian11/BitBusters/blob/master/Taller%202/Taller_Combinatoria.ipynb\" target=\"_parent\"><img src=\"https://colab.research.google.com/assets/colab-badge.svg\" alt=\"Open In Colab\"/></a>"
      ]
    },
    {
      "cell_type": "markdown",
      "source": [
        "# Taller 2: Principios de Conteo y Combinatorias\n",
        "\n",
        "En este taller, exploraremos conceptos relacionados con los principios de conteo y combinatorias. Resolveremos una serie de problemas que involucran la aplicación de fórmulas y técnicas matemáticas para contar diferentes posibilidades y combinaciones.\n",
        "\n",
        "## Problemas a Resolver 🧮\n",
        "\n",
        "### 1. Números Impares de 3 Cifras\n",
        "¿Cuántos números de 3 cifras impares se pueden escribir utilizando los dígitos [4, 5, 7, 9, 8] sin repetir ningún número?\n",
        "\n",
        "### 2. Números de 3 Cifras\n",
        "¿Cuántos números de 3 cifras existen en total?\n",
        "\n",
        "### 3. Números de 3 Cifras con al menos un 6\n",
        "¿Cuántos números de 3 cifras tienen al menos un dígito 6 en su escritura?\n",
        "\n",
        "### 4. Partidas en un Torneo de Ajedrez\n",
        "En un torneo de ajedrez participan 10 jugadores. ¿Cuántas partidas se jugarán si cada jugador juega contra los demás?\n",
        "\n",
        "### 5. Formación de Palabras con Letras Específicas\n",
        "El servicio de inteligencia de un país desea enviar mensajes a sus agentes secretos utilizando las letras V, A, M, P, I, R y O. ¿Cuántas palabras pueden formarse si ninguna letra puede repetirse?\n",
        "\n",
        "### 6. Palabras Diferentes con las Letras de \"AGARRARA\"\n",
        "¿Cuántas palabras diferentes se pueden formar utilizando las letras de la palabra \"AGARRARA\"?\n",
        "\n",
        "### 7. Organización de Renos en un Trineo\n",
        "Necesitas colocar a tus renos, Prancer, Quentin, Rudy y Jebediah, en una sola hilera para jalar tu trineo. Sin embargo, Rudy y Prancer son muy amigos, por lo que deben estar juntos o no volarán. ¿De cuántas formas se pueden organizar los renos?\n",
        "\n",
        "### 8. Selección de Conjuntos de Ropa\n",
        "En una tienda de ropa, hay 8 camisetas diferentes en colores variados y 5 pantalones diferentes. Un cliente desea comprar 2 camisetas y 1 pantalón para formar un conjunto único. ¿De cuántas formas diferentes puede elegir su conjunto?\n",
        "\n",
        "## Problema Opcional 💡\n",
        "\n",
        "### Cálculo de Posibilidades de Contratación\n",
        "Una empresa está abriendo 400 vacantes para ingenieros, y hay 10.000 solicitantes. ¿De cuántas formas se pueden seleccionar los 400 nuevos empleados? Además, cada empleado nuevo ganará un dólar más que el anterior. (Sueldo base: $1500 dólares)\n",
        "\n",
        "**Nota:** Para este problema opcional, se debe implementar una solución en algún lenguaje de programación.\n",
        "\n",
        "¡Diviértete resolviendo estos desafiantes problemas matemáticos y aplicando los principios de conteo y combinatorias! 🧠🔢📐"
      ],
      "metadata": {
        "id": "U_416fU92oMv"
      }
    },
    {
      "cell_type": "markdown",
      "source": [
        "#**Funciones**"
      ],
      "metadata": {
        "id": "zNjHkjiZ2UlW"
      }
    },
    {
      "cell_type": "code",
      "execution_count": null,
      "metadata": {
        "id": "tjZGgFnV15f6"
      },
      "outputs": [],
      "source": [
        "import math\n",
        "def permutacion(n,r):\n",
        "  return ( math.factorial(n))/(math.factorial(n-r))\n",
        "\n",
        "def permutacion_repetida(n,q, r):\n",
        "  return (math.factorial(n)/(math.factorial(q)*math.factorial(r)))\n",
        "\n",
        "def permutacion_mesa_redonda(n):\n",
        "  return math.factorial(n-1)\n",
        "\n",
        "def combinacion(n,r):\n",
        "  return (math.factorial(n))/(math.factorial(n-r)* math.factorial(r))"
      ]
    },
    {
      "cell_type": "markdown",
      "source": [
        "1. Números Impares de 3 Cifras\n",
        "¿Cuántos números de 3 cifras impares se pueden escribir utilizando los dígitos [4, 5, 7, 9, 8] sin repetir ningún número?"
      ],
      "metadata": {
        "id": "m00lfM5P3mHP"
      }
    },
    {
      "cell_type": "code",
      "source": [
        "numeros_impar_tres_cifras = permutacion(5,3)\n",
        "print(f\"Las permutaciones de  numeros de tres cifras impares que se puedes escribir utilizando los dígitos [4, 5, 7, 9, 8] sin repetir ningún número es {numeros_impar_tres_cifras} \")\n"
      ],
      "metadata": {
        "colab": {
          "base_uri": "https://localhost:8080/"
        },
        "id": "mmeeznpd3dOc",
        "outputId": "4fd86447-db1c-4a96-c4bb-2a951d00e8f8"
      },
      "execution_count": null,
      "outputs": [
        {
          "output_type": "stream",
          "name": "stdout",
          "text": [
            "Las permutaciones de  numeros de tres cifras impares que se puedes escribir utilizando los dígitos [4, 5, 7, 9, 8] sin repetir ningún número es 60.0 \n"
          ]
        }
      ]
    },
    {
      "cell_type": "markdown",
      "source": [
        "2. Números de 3 Cifras\n",
        "¿Cuántos números de 3 cifras existen en total?"
      ],
      "metadata": {
        "id": "mtsKGock5Luv"
      }
    },
    {
      "cell_type": "markdown",
      "source": [
        "3. ¿Cuántos números de 3 cifras tienen al menos un dígito 6 en su escritura?\n"
      ],
      "metadata": {
        "id": "sfzd4kfV-vVT"
      }
    },
    {
      "cell_type": "code",
      "source": [
        "cantidad = permutacion(6,3)\n",
        "print(f\"tiene: {cantidad}\")"
      ],
      "metadata": {
        "id": "aj0pRl7W-zF2",
        "outputId": "1d31a966-95a9-495f-af81-f10034b50d9f",
        "colab": {
          "base_uri": "https://localhost:8080/"
        }
      },
      "execution_count": null,
      "outputs": [
        {
          "output_type": "stream",
          "name": "stdout",
          "text": [
            "tiene: 120.0\n"
          ]
        }
      ]
    },
    {
      "cell_type": "code",
      "source": [
        "#Existen 899 numeros de tres cifras:\n",
        "cantidad_numeros_tres_cifras = permutacion(899,1)\n",
        "print(f\"Existen {cantidad_numeros_tres_cifras} numeros de tres cifras\")"
      ],
      "metadata": {
        "id": "3MHJpjSs5O1G",
        "colab": {
          "base_uri": "https://localhost:8080/"
        },
        "outputId": "b808f705-2c88-4531-ebd1-17cb2348d347"
      },
      "execution_count": null,
      "outputs": [
        {
          "output_type": "stream",
          "name": "stdout",
          "text": [
            "Existen 899.0 de tres cifras\n"
          ]
        }
      ]
    },
    {
      "cell_type": "markdown",
      "source": [
        "4. En un torneo de ajedrez participan 10 jugadores. ¿Cuántas partidas se jugarán si cada jugador juega contra los demás?"
      ],
      "metadata": {
        "id": "U6yhwV5H59sH"
      }
    },
    {
      "cell_type": "code",
      "source": [
        "partidas_jugadas = permutacion(10,2)\n",
        "print(f\"Se jugarán {partidas_jugadas} partidas\")"
      ],
      "metadata": {
        "colab": {
          "base_uri": "https://localhost:8080/"
        },
        "id": "gW546WV36P_9",
        "outputId": "5b28dea6-6b48-4aa5-e447-3b62b338980e"
      },
      "execution_count": null,
      "outputs": [
        {
          "output_type": "stream",
          "name": "stdout",
          "text": [
            "Se jugarán 90.0 partidas\n"
          ]
        }
      ]
    },
    {
      "cell_type": "markdown",
      "source": [
        "5.  El servicio de inteligencia de un país desea enviar mensajes a sus agentes secretos utilizando las letras V, A, M, P, I, R y O. ¿Cuántas palabras pueden formarse si ninguna letra puede repetirse?"
      ],
      "metadata": {
        "id": "X6vCe4AU7YNj"
      }
    },
    {
      "cell_type": "code",
      "source": [
        "palabras_que_se_pueden_formar = permutacion_repetida(7,0,0)\n",
        "print(f\"se pueden formar {palabras_que_se_pueden_formar} palabras\")"
      ],
      "metadata": {
        "id": "AfaodRWw7ZJj",
        "colab": {
          "base_uri": "https://localhost:8080/"
        },
        "outputId": "c1b06e8e-5ed7-427c-c477-525d0d92b179"
      },
      "execution_count": null,
      "outputs": [
        {
          "output_type": "stream",
          "name": "stdout",
          "text": [
            "se pueden formar 5040.0 palabras\n"
          ]
        }
      ]
    },
    {
      "cell_type": "markdown",
      "source": [
        "6. Palabras Diferentes con las Letras de \"AGARRARA\"\n",
        "¿Cuántas palabras diferentes se pueden formar utilizando las letras de la palabra \"AGARRARA\"?"
      ],
      "metadata": {
        "id": "yIcVq13k9w_i"
      }
    },
    {
      "cell_type": "code",
      "source": [
        "palabras = permutacion_repetida(8,4,3)\n",
        "print(f\"Se pueden formar {palabras} palabras\")"
      ],
      "metadata": {
        "colab": {
          "base_uri": "https://localhost:8080/"
        },
        "id": "WMLt_6BK9v9d",
        "outputId": "9ac5efaf-11c8-4324-a000-fcdd1cc8c2bb"
      },
      "execution_count": null,
      "outputs": [
        {
          "output_type": "stream",
          "name": "stdout",
          "text": [
            "Se pueden formar 280.0 palabras\n"
          ]
        }
      ]
    },
    {
      "cell_type": "markdown",
      "source": [
        "7. Necesitas colocar a tus renos, Prancer, Quentin, Rudy y Jebediah, en una sola hilera para jalar tu trineo. Sin embargo, Rudy y Prancer son muy amigos, por lo que deben estar juntos o no volarán. ¿De cuántas formas se pueden organizar los renos?"
      ],
      "metadata": {
        "id": "Bu9ysDnn9PKl"
      }
    },
    {
      "cell_type": "code",
      "source": [
        "e = math.factorial(3)\n",
        "e"
      ],
      "metadata": {
        "colab": {
          "base_uri": "https://localhost:8080/"
        },
        "id": "vGSJyuIq9Pn3",
        "outputId": "9845c4e6-0035-4aec-99e4-2b48162183d9"
      },
      "execution_count": null,
      "outputs": [
        {
          "output_type": "execute_result",
          "data": {
            "text/plain": [
              "6"
            ]
          },
          "metadata": {},
          "execution_count": 8
        }
      ]
    },
    {
      "cell_type": "markdown",
      "source": [
        "8.\tEn una tienda de ropa, hay 8 camisetas diferentes en colores variados y 5 pantalones diferentes. Un cliente quiere comprar 2 camisetas y 1 pantalón para formar un conjunto único. ¿De cuántas formas diferentes puede elegir su conjunto?\n"
      ],
      "metadata": {
        "id": "4AVm7v9C4fVn"
      }
    },
    {
      "cell_type": "code",
      "source": [
        "def combinacion(n,r):\n",
        "  return (math.factorial(n))/(math.factorial(n-r)* math.factorial(r))\n",
        "\n",
        "a = combinacion(8,2)*combinacion(5,1)\n",
        "a"
      ],
      "metadata": {
        "colab": {
          "base_uri": "https://localhost:8080/"
        },
        "id": "FfPTQAkp4epx",
        "outputId": "b9461f69-a6e6-4e4f-d18a-3f7330e95093"
      },
      "execution_count": null,
      "outputs": [
        {
          "output_type": "execute_result",
          "data": {
            "text/plain": [
              "140.0"
            ]
          },
          "metadata": {},
          "execution_count": 5
        }
      ]
    },
    {
      "cell_type": "markdown",
      "source": [
        "Opcional: Una empresa está abriendo 400 vacantes para ingenieros, y hay 10.000 solicitantes. ¿De cuántas formas se pueden seleccionar los 400 nuevos empleados? Además, cada empleado nuevo ganará un dólar más que el anterior. (Sueldo base: $1500 dólares)"
      ],
      "metadata": {
        "id": "bwzlBxmX-cBX"
      }
    },
    {
      "cell_type": "code",
      "source": [
        "cantidad_de_permutaciones = permutacion(10000,400)\n",
        "print(f\"cantidad {cantidad_de_permutaciones}\")"
      ],
      "metadata": {
        "colab": {
          "base_uri": "https://localhost:8080/",
          "height": 315
        },
        "id": "O77T2gf0-gkv",
        "outputId": "ed947847-33c6-44b2-e3e1-01db68cecbe7"
      },
      "execution_count": null,
      "outputs": [
        {
          "output_type": "error",
          "ename": "OverflowError",
          "evalue": "ignored",
          "traceback": [
            "\u001b[0;31m---------------------------------------------------------------------------\u001b[0m",
            "\u001b[0;31mOverflowError\u001b[0m                             Traceback (most recent call last)",
            "\u001b[0;32m<ipython-input-19-f0600d57e09b>\u001b[0m in \u001b[0;36m<cell line: 1>\u001b[0;34m()\u001b[0m\n\u001b[0;32m----> 1\u001b[0;31m \u001b[0mcantidad_de_permutaciones\u001b[0m \u001b[0;34m=\u001b[0m \u001b[0mpermutacion\u001b[0m\u001b[0;34m(\u001b[0m\u001b[0;36m10000\u001b[0m\u001b[0;34m,\u001b[0m\u001b[0;36m400\u001b[0m\u001b[0;34m)\u001b[0m\u001b[0;34m\u001b[0m\u001b[0;34m\u001b[0m\u001b[0m\n\u001b[0m\u001b[1;32m      2\u001b[0m \u001b[0mprint\u001b[0m\u001b[0;34m(\u001b[0m\u001b[0;34mf\"cantidad {cantidad_de_permutaciones}\"\u001b[0m\u001b[0;34m)\u001b[0m\u001b[0;34m\u001b[0m\u001b[0;34m\u001b[0m\u001b[0m\n",
            "\u001b[0;32m<ipython-input-1-4a7ce801d33a>\u001b[0m in \u001b[0;36mpermutacion\u001b[0;34m(n, r)\u001b[0m\n\u001b[1;32m      1\u001b[0m \u001b[0;32mimport\u001b[0m \u001b[0mmath\u001b[0m\u001b[0;34m\u001b[0m\u001b[0;34m\u001b[0m\u001b[0m\n\u001b[1;32m      2\u001b[0m \u001b[0;32mdef\u001b[0m \u001b[0mpermutacion\u001b[0m\u001b[0;34m(\u001b[0m\u001b[0mn\u001b[0m\u001b[0;34m,\u001b[0m\u001b[0mr\u001b[0m\u001b[0;34m)\u001b[0m\u001b[0;34m:\u001b[0m\u001b[0;34m\u001b[0m\u001b[0;34m\u001b[0m\u001b[0m\n\u001b[0;32m----> 3\u001b[0;31m   \u001b[0;32mreturn\u001b[0m \u001b[0;34m(\u001b[0m \u001b[0mmath\u001b[0m\u001b[0;34m.\u001b[0m\u001b[0mfactorial\u001b[0m\u001b[0;34m(\u001b[0m\u001b[0mn\u001b[0m\u001b[0;34m)\u001b[0m\u001b[0;34m)\u001b[0m\u001b[0;34m/\u001b[0m\u001b[0;34m(\u001b[0m\u001b[0mmath\u001b[0m\u001b[0;34m.\u001b[0m\u001b[0mfactorial\u001b[0m\u001b[0;34m(\u001b[0m\u001b[0mn\u001b[0m\u001b[0;34m-\u001b[0m\u001b[0mr\u001b[0m\u001b[0;34m)\u001b[0m\u001b[0;34m)\u001b[0m\u001b[0;34m\u001b[0m\u001b[0;34m\u001b[0m\u001b[0m\n\u001b[0m\u001b[1;32m      4\u001b[0m \u001b[0;34m\u001b[0m\u001b[0m\n\u001b[1;32m      5\u001b[0m \u001b[0;32mdef\u001b[0m \u001b[0mpermutacion_repetida\u001b[0m\u001b[0;34m(\u001b[0m\u001b[0mn\u001b[0m\u001b[0;34m,\u001b[0m\u001b[0mq\u001b[0m\u001b[0;34m,\u001b[0m \u001b[0mr\u001b[0m\u001b[0;34m)\u001b[0m\u001b[0;34m:\u001b[0m\u001b[0;34m\u001b[0m\u001b[0;34m\u001b[0m\u001b[0m\n",
            "\u001b[0;31mOverflowError\u001b[0m: integer division result too large for a float"
          ]
        }
      ]
    },
    {
      "cell_type": "code",
      "source": [
        "ca = math.factorial(10000)/math.factorial(9600)\n",
        "ca"
      ],
      "metadata": {
        "id": "FDUxEzcp_BXo"
      },
      "execution_count": null,
      "outputs": []
    }
  ]
}