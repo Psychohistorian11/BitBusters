{
  "nbformat": 4,
  "nbformat_minor": 0,
  "metadata": {
    "colab": {
      "provenance": [],
      "include_colab_link": true
    },
    "kernelspec": {
      "name": "python3",
      "display_name": "Python 3"
    },
    "language_info": {
      "name": "python"
    }
  },
  "cells": [
    {
      "cell_type": "markdown",
      "metadata": {
        "id": "view-in-github",
        "colab_type": "text"
      },
      "source": [
        "<a href=\"https://colab.research.google.com/github/Psychohistorian11/BitBusters/blob/master/Taller_Dise%C3%B1o_de_Algoritmos/Taller_Dise%C3%B1o_de_Algoritmos.ipynb\" target=\"_parent\"><img src=\"https://colab.research.google.com/assets/colab-badge.svg\" alt=\"Open In Colab\"/></a>"
      ]
    },
    {
      "cell_type": "code",
      "execution_count": null,
      "metadata": {
        "id": "_B6f_hDyZ1c1"
      },
      "outputs": [],
      "source": [
        "def maximumPath(self, N, Matrix):\n",
        "        dp = [[0] * N for _ in range(N)]\n",
        "\n",
        "        # Copy the values from the last row of the matrix to the dp table\n",
        "        for col in range(N):\n",
        "            dp[N - 1][col] = Matrix[N - 1][col]\n",
        "\n",
        "        # Start from the second-to-last row and work upwards\n",
        "        for row in range(N - 2, -1, -1):\n",
        "            for col in range(N):\n",
        "                # Calculate the maximum path sum for the current cell\n",
        "                path_sums = [dp[row + 1][col]]\n",
        "                if col > 0:\n",
        "                    path_sums.append(dp[row + 1][col - 1])\n",
        "                if col < N - 1:\n",
        "                    path_sums.append(dp[row + 1][col + 1])\n",
        "\n",
        "                dp[row][col] = Matrix[row][col] + max(path_sums)\n",
        "\n",
        "        # Find the maximum value in the first row of the dp table\n",
        "        max_path_sum = max(dp[0])\n",
        "\n",
        "        return max_path_sum"
      ]
    },
    {
      "cell_type": "code",
      "source": [
        "def min_dif(arr):\n",
        "    total_sum = sum(arr)\n",
        "    size = len(arr)\n",
        "\n",
        "    dp = [[False] * (total_sum // 2 + 1) for _ in range(size + 1)]\n",
        "\n",
        "    for i in range(size + 1):\n",
        "        dp[i][0] = True\n",
        "\n",
        "    for i in range(1, size + 1):\n",
        "        for j in range(1, total_sum // 2 + 1):\n",
        "            dp[i][j] = dp[i - 1][j]\n",
        "            if arr[i - 1] <= j:\n",
        "                dp[i][j] = dp[i][j] or dp[i - 1][j - arr[i - 1]]\n",
        "\n",
        "    min_difference = total_sum\n",
        "    for j in range(total_sum // 2, -1, -1):\n",
        "        if dp[size][j]:\n",
        "            min_difference = total_sum - 2 * j\n",
        "            break\n",
        "\n",
        "    return min_difference\n",
        "\n",
        "array = [1,4]\n",
        "result = min_dif(array)\n",
        "\n",
        "print(\"Diferencia mínima entre los dos conjuntos:\", result)"
      ],
      "metadata": {
        "id": "bX8BhmIum8Ux"
      },
      "execution_count": null,
      "outputs": []
    },
    {
      "cell_type": "code",
      "source": [
        "def factorial(n):\n",
        "  memoria = [0 for i in range(n+1)]\n",
        "  memoria[0]=1\n",
        "  memoria[1]=1\n",
        "  for i in range(2,n+1):\n",
        "    memoria[i]=memoria[i-1]*i\n",
        "  return memoria[n]"
      ],
      "metadata": {
        "id": "C2UM29DhnAog"
      },
      "execution_count": null,
      "outputs": []
    },
    {
      "cell_type": "code",
      "source": [
        "def imprimir_matriz(matriz):\n",
        "    for fila in matriz:\n",
        "        print(\" \".join(map(str, fila)))\n",
        "\n",
        "def es_valido(matriz, fila, columna, numero):\n",
        "    for i in range(3):\n",
        "        if matriz[fila][i] == numero or matriz[i][columna] == numero:\n",
        "            return False\n",
        "    return True\n",
        "\n",
        "def suma_filas_columnas_iguales(matriz, suma_objetivo):\n",
        "    suma_fila = [sum(fila) for fila in matriz]\n",
        "    suma_columna = [sum(matriz[i][j] for i in range(3)) for j in range(3)]\n",
        "\n",
        "    return all(suma == suma_objetivo for suma in suma_fila) and all(suma == suma_objetivo for suma in suma_columna)\n",
        "\n",
        "def resolver_sudoku(matriz, fila, columna, suma_objetivo, suma_actual):\n",
        "    if fila == 3:\n",
        "        return suma_filas_columnas_iguales(matriz, suma_objetivo)\n",
        "\n",
        "    if columna == 3:\n",
        "        return resolver_sudoku(matriz, fila + 1, 0, suma_objetivo, suma_actual)\n",
        "\n",
        "    if matriz[fila][columna] != 0:\n",
        "        return resolver_sudoku(matriz, fila, columna + 1, suma_objetivo, suma_actual)\n",
        "\n",
        "    for numero in range(1, 10):\n",
        "        if es_valido(matriz, fila, columna, numero):\n",
        "            matriz[fila][columna] = numero\n",
        "            nueva_suma = suma_actual + numero\n",
        "            if resolver_sudoku(matriz, fila, columna + 1, suma_objetivo, nueva_suma):\n",
        "                return True\n",
        "            matriz[fila][columna] = 0\n",
        "    return False\n",
        "\n",
        "suma_objetivo = int(input(\"Ingresa el valor de la suma deseado: \"))\n",
        "matriz = [[3, 6, 7],\n",
        "          [0, 7, 0],\n",
        "          [8, 0, 5]]\n",
        "\n",
        "if resolver_sudoku(matriz, 0, 0, suma_objetivo, 0):\n",
        "    print(\"\\nSolución:\")\n",
        "    imprimir_matriz(matriz)\n",
        "else:\n",
        "    print(\"\\nNo hay solución para el tablero con la suma deseada.\")"
      ],
      "metadata": {
        "id": "jbDpAj5WppiB"
      },
      "execution_count": null,
      "outputs": []
    },
    {
      "cell_type": "code",
      "source": [
        "def generar_combinaciones_con_backtracking(input_str):\n",
        "    n = len(input_str)\n",
        "    salida = [0] * (2 * n - 1)\n",
        "\n",
        "    def retroceder(indice):\n",
        "        if indice == 2 * n - 1:\n",
        "            print(\"\".join(salida))\n",
        "            return\n",
        "\n",
        "        if indice % 2 == 0:\n",
        "            # Colocar un carácter\n",
        "            salida[indice] = input_str[indice // 2]\n",
        "            retroceder(indice + 1)\n",
        "        else:\n",
        "            # Colocar un espacio\n",
        "            salida[indice] = ' '\n",
        "            retroceder(indice + 1)\n",
        "            # Saltar el espacio\n",
        "            salida[indice] = ''\n",
        "            retroceder(indice + 1)\n",
        "\n",
        "    retroceder(0)\n",
        "\n",
        "# Ejemplo de uso:\n",
        "input_str = \"ABC\"\n",
        "generar_combinaciones_con_backtracking(input_str)\n"
      ],
      "metadata": {
        "colab": {
          "base_uri": "https://localhost:8080/"
        },
        "id": "bNdzUPnQ2nVA",
        "outputId": "c960a3b9-cf8a-499c-bb97-2b6e113e99dc"
      },
      "execution_count": null,
      "outputs": [
        {
          "output_type": "stream",
          "name": "stdout",
          "text": [
            "A B C\n",
            "A BC\n",
            "AB C\n",
            "ABC\n"
          ]
        }
      ]
    }
  ]
}