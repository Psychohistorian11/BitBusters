{
  "nbformat": 4,
  "nbformat_minor": 0,
  "metadata": {
    "colab": {
      "provenance": [],
      "include_colab_link": true
    },
    "kernelspec": {
      "name": "python3",
      "display_name": "Python 3"
    },
    "language_info": {
      "name": "python"
    }
  },
  "cells": [
    {
      "cell_type": "markdown",
      "metadata": {
        "id": "view-in-github",
        "colab_type": "text"
      },
      "source": [
        "<a href=\"https://colab.research.google.com/github/Psychohistorian11/BitBusters/blob/master/Taller%202%20/Taller_Combinatoria.ipynb\" target=\"_parent\"><img src=\"https://colab.research.google.com/assets/colab-badge.svg\" alt=\"Open In Colab\"/></a>"
      ]
    },
    {
      "cell_type": "markdown",
      "source": [
        "# Taller 2: Principios de Conteo y Combinatorias\n",
        "\n",
        "En este taller, exploraremos conceptos relacionados con los principios de conteo y combinatorias. Resolveremos una serie de problemas que involucran la aplicación de fórmulas y técnicas matemáticas para contar diferentes posibilidades y combinaciones.\n",
        "\n",
        "## Problemas a Resolver 🧮\n",
        "\n",
        "### 1. Números Impares de 3 Cifras\n",
        "¿Cuántos números de 3 cifras impares se pueden escribir utilizando los dígitos [4, 5, 7, 9, 8] sin repetir ningún número?\n",
        "\n",
        "### 2. Números de 3 Cifras\n",
        "¿Cuántos números de 3 cifras existen en total?\n",
        "\n",
        "### 3. Números de 3 Cifras con al menos un 6\n",
        "¿Cuántos números de 3 cifras tienen al menos un dígito 6 en su escritura?\n",
        "\n",
        "### 4. Partidas en un Torneo de Ajedrez\n",
        "En un torneo de ajedrez participan 10 jugadores. ¿Cuántas partidas se jugarán si cada jugador juega contra los demás?\n",
        "\n",
        "### 5. Formación de Palabras con Letras Específicas\n",
        "El servicio de inteligencia de un país desea enviar mensajes a sus agentes secretos utilizando las letras V, A, M, P, I, R y O. ¿Cuántas palabras pueden formarse si ninguna letra puede repetirse?\n",
        "\n",
        "### 6. Palabras Diferentes con las Letras de \"AGARRARA\"\n",
        "¿Cuántas palabras diferentes se pueden formar utilizando las letras de la palabra \"AGARRARA\"?\n",
        "\n",
        "### 7. Organización de Renos en un Trineo\n",
        "Necesitas colocar a tus renos, Prancer, Quentin, Rudy y Jebediah, en una sola hilera para jalar tu trineo. Sin embargo, Rudy y Prancer son muy amigos, por lo que deben estar juntos o no volarán. ¿De cuántas formas se pueden organizar los renos?\n",
        "\n",
        "### 8. Selección de Conjuntos de Ropa\n",
        "En una tienda de ropa, hay 8 camisetas diferentes en colores variados y 5 pantalones diferentes. Un cliente desea comprar 2 camisetas y 1 pantalón para formar un conjunto único. ¿De cuántas formas diferentes puede elegir su conjunto?\n",
        "\n",
        "## Problema Opcional 💡\n",
        "\n",
        "### Cálculo de Posibilidades de Contratación\n",
        "Una empresa está abriendo 400 vacantes para ingenieros, y hay 10.000 solicitantes. ¿De cuántas formas se pueden seleccionar los 400 nuevos empleados? Además, cada empleado nuevo ganará un dólar más que el anterior. (Sueldo base: $1500 dólares)\n",
        "\n",
        "**Nota:** Para este problema opcional, se debe implementar una solución en algún lenguaje de programación.\n",
        "\n",
        "¡Diviértete resolviendo estos desafiantes problemas matemáticos y aplicando los principios de conteo y combinatorias! 🧠🔢📐"
      ],
      "metadata": {
        "id": "U_416fU92oMv"
      }
    },
    {
      "cell_type": "markdown",
      "source": [
        "#**Funciones**"
      ],
      "metadata": {
        "id": "zNjHkjiZ2UlW"
      }
    },
    {
      "cell_type": "code",
      "execution_count": 33,
      "metadata": {
        "id": "tjZGgFnV15f6"
      },
      "outputs": [],
      "source": [
        "import math\n",
        "def permutacion(n,r):\n",
        "  return ( math.factorial(n))/(math.factorial(n-r))\n",
        "\n",
        "def permutacion_repetida(n,q, r):\n",
        "  return (math.factorial(n)/(math.factorial(q)*math.factorial(r)))\n",
        "\n",
        "def permutacion_mesa_redonda(n):\n",
        "  return math.factorial(n-1)\n",
        "\n",
        "def combinacion(n,r):\n",
        "  return (math.factorial(n))/(math.factorial(n-r)* math.factorial(r))"
      ]
    },
    {
      "cell_type": "markdown",
      "source": [
        "1. Números Impares de 3 Cifras\n",
        "¿Cuántos números de 3 cifras impares se pueden escribir utilizando los dígitos [4, 5, 7, 9, 8] sin repetir ningún número?"
      ],
      "metadata": {
        "id": "m00lfM5P3mHP"
      }
    },
    {
      "cell_type": "code",
      "source": [
        "numeros_impar_tres_cifras = permutacion(5,3)\n",
        "print(f\"Las permutaciones de  numeros de tres cifras impares que se puedes escribir utilizando los dígitos [4, 5, 7, 9, 8] sin repetir ningún número es {numeros_impar_tres_cifras} \")\n"
      ],
      "metadata": {
        "colab": {
          "base_uri": "https://localhost:8080/"
        },
        "id": "mmeeznpd3dOc",
        "outputId": "4fd86447-db1c-4a96-c4bb-2a951d00e8f8"
      },
      "execution_count": null,
      "outputs": [
        {
          "output_type": "stream",
          "name": "stdout",
          "text": [
            "Las permutaciones de  numeros de tres cifras impares que se puedes escribir utilizando los dígitos [4, 5, 7, 9, 8] sin repetir ningún número es 60.0 \n"
          ]
        }
      ]
    },
    {
      "cell_type": "markdown",
      "source": [
        "2. Números de 3 Cifras\n",
        "¿Cuántos números de 3 cifras existen en total?"
      ],
      "metadata": {
        "id": "mtsKGock5Luv"
      }
    },
    {
      "cell_type": "markdown",
      "source": [
        "3. ¿Cuántos números de 3 cifras tienen al menos un dígito 6 en su escritura?\n"
      ],
      "metadata": {
        "id": "sfzd4kfV-vVT"
      }
    },
    {
      "cell_type": "code",
      "source": [
        "cantidad = permutacion(6,3)\n",
        "print(f\"tiene: {cantidad}\")"
      ],
      "metadata": {
        "colab": {
          "base_uri": "https://localhost:8080/"
        },
        "id": "aj0pRl7W-zF2",
        "outputId": "1d31a966-95a9-495f-af81-f10034b50d9f"
      },
      "execution_count": 20,
      "outputs": [
        {
          "output_type": "stream",
          "name": "stdout",
          "text": [
            "tiene: 120.0\n"
          ]
        }
      ]
    },
    {
      "cell_type": "code",
      "source": [
        "#Existen 899 numeros de tres cifras:\n",
        "cantidad_numeros_tres_cifras = permutacion(899,1)\n",
        "print(f\"Existen {cantidad_numeros_tres_cifras} numeros de tres cifras\")"
      ],
      "metadata": {
        "id": "3MHJpjSs5O1G",
        "colab": {
          "base_uri": "https://localhost:8080/"
        },
        "outputId": "b808f705-2c88-4531-ebd1-17cb2348d347"
      },
      "execution_count": null,
      "outputs": [
        {
          "output_type": "stream",
          "name": "stdout",
          "text": [
            "Existen 899.0 de tres cifras\n"
          ]
        }
      ]
    },
    {
      "cell_type": "markdown",
      "source": [
        "4. En un torneo de ajedrez participan 10 jugadores. ¿Cuántas partidas se jugarán si cada jugador juega contra los demás?"
      ],
      "metadata": {
        "id": "U6yhwV5H59sH"
      }
    },
    {
      "cell_type": "code",
      "source": [
        "partidas_jugadas = permutacion(10,2)\n",
        "print(f\"Se jugarán {partidas_jugadas} partidas\")"
      ],
      "metadata": {
        "colab": {
          "base_uri": "https://localhost:8080/"
        },
        "id": "gW546WV36P_9",
        "outputId": "5b28dea6-6b48-4aa5-e447-3b62b338980e"
      },
      "execution_count": null,
      "outputs": [
        {
          "output_type": "stream",
          "name": "stdout",
          "text": [
            "Se jugarán 90.0 partidas\n"
          ]
        }
      ]
    },
    {
      "cell_type": "markdown",
      "source": [
        "5.  El servicio de inteligencia de un país desea enviar mensajes a sus agentes secretos utilizando las letras V, A, M, P, I, R y O. ¿Cuántas palabras pueden formarse si ninguna letra puede repetirse?"
      ],
      "metadata": {
        "id": "X6vCe4AU7YNj"
      }
    },
    {
      "cell_type": "code",
      "source": [
        "palabras_que_se_pueden_formar = permutacion_repetida(7,0,0)\n",
        "print(f\"se pueden formar {palabras_que_se_pueden_formar} palabras\")"
      ],
      "metadata": {
        "id": "AfaodRWw7ZJj",
        "colab": {
          "base_uri": "https://localhost:8080/"
        },
        "outputId": "c1b06e8e-5ed7-427c-c477-525d0d92b179"
      },
      "execution_count": null,
      "outputs": [
        {
          "output_type": "stream",
          "name": "stdout",
          "text": [
            "se pueden formar 5040.0 palabras\n"
          ]
        }
      ]
    },
    {
      "cell_type": "markdown",
      "source": [
        "6. Palabras Diferentes con las Letras de \"AGARRARA\"\n",
        "¿Cuántas palabras diferentes se pueden formar utilizando las letras de la palabra \"AGARRARA\"?"
      ],
      "metadata": {
        "id": "yIcVq13k9w_i"
      }
    },
    {
      "cell_type": "code",
      "source": [
        "palabras = permutacion_repetida(8,4,3)\n",
        "print(f\"Se pueden formar {palabras} palabras\")"
      ],
      "metadata": {
        "colab": {
          "base_uri": "https://localhost:8080/"
        },
        "id": "WMLt_6BK9v9d",
        "outputId": "9ac5efaf-11c8-4324-a000-fcdd1cc8c2bb"
      },
      "execution_count": null,
      "outputs": [
        {
          "output_type": "stream",
          "name": "stdout",
          "text": [
            "Se pueden formar 280.0 palabras\n"
          ]
        }
      ]
    },
    {
      "cell_type": "markdown",
      "source": [
        "7. Necesitas colocar a tus renos, Prancer, Quentin, Rudy y Jebediah, en una sola hilera para jalar tu trineo. Sin embargo, Rudy y Prancer son muy amigos, por lo que deben estar juntos o no volarán. ¿De cuántas formas se pueden organizar los renos?"
      ],
      "metadata": {
        "id": "Bu9ysDnn9PKl"
      }
    },
    {
      "cell_type": "code",
      "source": [
        "e = permutacion(3,1)\n",
        "print(e)"
      ],
      "metadata": {
        "colab": {
          "base_uri": "https://localhost:8080/"
        },
        "id": "vGSJyuIq9Pn3",
        "outputId": "8e66ca21-f40c-4497-b33f-2d6ef314cfd3"
      },
      "execution_count": 32,
      "outputs": [
        {
          "output_type": "stream",
          "name": "stdout",
          "text": [
            "6\n"
          ]
        }
      ]
    },
    {
      "cell_type": "markdown",
      "source": [
        "8.\tEn una tienda de ropa, hay 8 camisetas diferentes en colores variados y 5 pantalones diferentes. Un cliente quiere comprar 2 camisetas y 1 pantalón para formar un conjunto único. ¿De cuántas formas diferentes puede elegir su conjunto?\n"
      ],
      "metadata": {
        "id": "4AVm7v9C4fVn"
      }
    },
    {
      "cell_type": "code",
      "source": [
        "a = combinacion(8,2)*combinacion(5,1)\n",
        "print(a)"
      ],
      "metadata": {
        "colab": {
          "base_uri": "https://localhost:8080/"
        },
        "id": "FfPTQAkp4epx",
        "outputId": "b22edc8c-637b-4e23-bb69-b722b4a963ac"
      },
      "execution_count": 35,
      "outputs": [
        {
          "output_type": "stream",
          "name": "stdout",
          "text": [
            "140.0\n"
          ]
        }
      ]
    },
    {
      "cell_type": "markdown",
      "source": [
        "Opcional: Una empresa está abriendo 400 vacantes para ingenieros, y hay 10.000 solicitantes. ¿De cuántas formas se pueden seleccionar los 400 nuevos empleados? Además, cada empleado nuevo ganará un dólar más que el anterior. (Sueldo base: $1500 dólares)"
      ],
      "metadata": {
        "id": "bwzlBxmX-cBX"
      }
    },
    {
      "cell_type": "code",
      "source": [
        "permutaciones=1\n",
        "gasto = 0\n",
        "contador =0\n",
        "for i in range (9601,10001):\n",
        "  permutaciones *= i\n",
        "  contador +=1\n",
        "for i in range (1500,1901):\n",
        "  gasto += i\n",
        "\n",
        "print(f\"El dinero invertido en el pago de los trabajadores es {gasto}\")\n",
        "print(f\"La cantidad de permutaciones es {permutaciones}\")\n"
      ],
      "metadata": {
        "colab": {
          "base_uri": "https://localhost:8080/"
        },
        "id": "O77T2gf0-gkv",
        "outputId": "f3df283e-93bf-419e-dce7-29d1679d1977"
      },
      "execution_count": 30,
      "outputs": [
        {
          "output_type": "stream",
          "name": "stdout",
          "text": [
            "El dinero invertido en el pago de los trabajadores es 681700\n",
            "La cantidad de permutaciones es 3070678099311184338130781006359806300404669007187154770422600774903142857278967058535121989573419065259167212703381786880406705772894645277594285113864773344460714337451872554620592994195748385760574500594454660938442770404595939560371982506473902880852408593521707736515536378860064125257603219977276939335095540585089238146363939570185402055052357304834721327014657239136615224765697788964032240518692025612377671621407740382242901634557332654115699994283152832505146272213762383762056116251227135355000629540017294584403851146409851547258753593809849667534049119243879824130693377808002260152470648512229957199966414852162418616138064588574030690540159759097851162989967541271833325248439006412832824669673698992719914817942220823019665865346578487925552668442690425845568937944395088486362881130150696176041808273443691363628439425719581922287350081733191808773813762212822838636656199570359754092289206903893940521470390942947313261305060215436156545653460341148149704966014987676557311094528496708395661250379302427821491602795400752763894716913758527741954460241171386292560303387590392779820390790577076530979877615764433210836732136009345715259613831815410920778150821226507266023619736844046140654188728326033498631105380458072134996703232364319411091911093909707089208291349570726264702593969434029771617507651038309174744952382795668468773573854559945199056161428738590339440720892017577536794197447245857212450653896470725798761837442032183354162073907681622780248001451987756174540800000000000000000000000000000000000000000000000000000000000000000000000000000000000000000000000000000\n"
          ]
        }
      ]
    }
  ]
}