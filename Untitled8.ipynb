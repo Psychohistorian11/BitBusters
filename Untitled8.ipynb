{
  "nbformat": 4,
  "nbformat_minor": 0,
  "metadata": {
    "colab": {
      "provenance": [],
      "authorship_tag": "ABX9TyMAvu2leQfyJFvJsx6tYgJK",
      "include_colab_link": true
    },
    "kernelspec": {
      "name": "python3",
      "display_name": "Python 3"
    },
    "language_info": {
      "name": "python"
    }
  },
  "cells": [
    {
      "cell_type": "markdown",
      "metadata": {
        "id": "view-in-github",
        "colab_type": "text"
      },
      "source": [
        "<a href=\"https://colab.research.google.com/github/Psychohistorian11/BitBusters/blob/master/Untitled8.ipynb\" target=\"_parent\"><img src=\"https://colab.research.google.com/assets/colab-badge.svg\" alt=\"Open In Colab\"/></a>"
      ]
    },
    {
      "cell_type": "code",
      "execution_count": null,
      "metadata": {
        "id": "xFovIIFCzEEz"
      },
      "outputs": [],
      "source": [
        "def longitud(string, aux = 0):\n",
        "    if len(string) == 0:\n",
        "        return aux\n",
        "    else:\n",
        "        aux = aux + 1\n",
        "        return longitud(string[1:],aux)\n",
        "\n",
        "print(longitud(\"cristian\"))"
      ]
    }
  ]
}