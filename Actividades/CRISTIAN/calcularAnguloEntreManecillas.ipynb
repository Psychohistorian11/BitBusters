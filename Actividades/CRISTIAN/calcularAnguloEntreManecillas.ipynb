{
  "nbformat": 4,
  "nbformat_minor": 0,
  "metadata": {
    "colab": {
      "provenance": [],
      "authorship_tag": "ABX9TyMELZ1JMAK+jrp6VWVzE709",
      "include_colab_link": true
    },
    "kernelspec": {
      "name": "python3",
      "display_name": "Python 3"
    },
    "language_info": {
      "name": "python"
    }
  },
  "cells": [
    {
      "cell_type": "markdown",
      "metadata": {
        "id": "view-in-github",
        "colab_type": "text"
      },
      "source": [
        "<a href=\"https://colab.research.google.com/github/Psychohistorian11/BitBusters/blob/master/Actividades/CRISTIAN/calcularAnguloEntreManecillas.ipynb\" target=\"_parent\"><img src=\"https://colab.research.google.com/assets/colab-badge.svg\" alt=\"Open In Colab\"/></a>"
      ]
    },
    {
      "cell_type": "code",
      "execution_count": null,
      "metadata": {
        "id": "DMvWSH50ywXu"
      },
      "outputs": [],
      "source": [
        "\"\"\"\n",
        "• Dado dos enteros que indican la hora y los minutos muestre el ángulo\n",
        "menor entre las dos manecillas de un reloj análogo.\n",
        "\"\"\""
      ]
    },
    {
      "cell_type": "code",
      "source": [
        "def main():\n",
        "    hour = int(input(\"Ingrese la hora de 1-12\"))\n",
        "    minute = int(input(\"Ingrese los minutos 1 - 60\"))\n",
        "    angle = calculateAngle(hour,minute)\n",
        "    print(angle)\n"
      ],
      "metadata": {
        "colab": {
          "base_uri": "https://localhost:8080/"
        },
        "id": "5AWIgMA0IESK",
        "outputId": "dc931ec4-7a64-48b8-aea1-fde2f01d1a0d"
      },
      "execution_count": 10,
      "outputs": [
        {
          "output_type": "stream",
          "name": "stdout",
          "text": [
            "Ingrese la hora de 1-123\n",
            "Ingrese los minutos 1 - 6018\n",
            "96.0\n"
          ]
        }
      ]
    },
    {
      "cell_type": "code",
      "source": [
        "def calculateAngle(hour, minute):\n",
        "    angleHour = ((hour + (minute/60)) * 30)\n",
        "    angleMinute = minute * 6\n",
        "    angleA = abs(angleHour - angleMinute)\n",
        "    if angleMinute > angleHour:\n",
        "        angleB = (360-angleMinute) + angleHour\n",
        "    else:\n",
        "        angleB = (360-angleHour) + angleMinute\n",
        "\n",
        "    if angleA < angleB:\n",
        "        return angleA\n",
        "    else:\n",
        "        return angleB\n",
        "\n",
        "main()\n"
      ],
      "metadata": {
        "colab": {
          "base_uri": "https://localhost:8080/"
        },
        "id": "Q8lpAVzZJllf",
        "outputId": "085b1770-4e29-4bd1-df5c-a8b59ef19e9d"
      },
      "execution_count": 15,
      "outputs": [
        {
          "output_type": "stream",
          "name": "stdout",
          "text": [
            "Ingrese la hora de 1-1212\n",
            "Ingrese los minutos 1 - 6030\n",
            "165.0\n"
          ]
        }
      ]
    }
  ]
}