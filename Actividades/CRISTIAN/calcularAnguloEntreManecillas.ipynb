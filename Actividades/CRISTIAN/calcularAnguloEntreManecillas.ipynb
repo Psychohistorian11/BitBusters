{
  "nbformat": 4,
  "nbformat_minor": 0,
  "metadata": {
    "colab": {
      "provenance": [],
      "authorship_tag": "ABX9TyNPeTfTeDSdegQG9B3DMaJU",
      "include_colab_link": true
    },
    "kernelspec": {
      "name": "python3",
      "display_name": "Python 3"
    },
    "language_info": {
      "name": "python"
    }
  },
  "cells": [
    {
      "cell_type": "markdown",
      "metadata": {
        "id": "view-in-github",
        "colab_type": "text"
      },
      "source": [
        "<a href=\"https://colab.research.google.com/github/Psychohistorian11/BitBusters/blob/master/Actividades/CRISTIAN/calcularAnguloEntreManecillas.ipynb\" target=\"_parent\"><img src=\"https://colab.research.google.com/assets/colab-badge.svg\" alt=\"Open In Colab\"/></a>"
      ]
    },
    {
      "cell_type": "code",
      "execution_count": null,
      "metadata": {
        "id": "DMvWSH50ywXu"
      },
      "outputs": [],
      "source": [
        "\"\"\"\n",
        "• Dado dos enteros que indican la hora y los minutos muestre el ángulo\n",
        "menor entre las dos manecillas de un reloj análogo.\n",
        "\"\"\""
      ]
    },
    {
      "cell_type": "code",
      "source": [
        "def main():\n",
        "    try:\n",
        "        hour = int(input(\"Enter the hour in the range (1 - 12): \"))\n",
        "        minute = int(input(\"Enter the Minutes in the range (0 - 59): \"))\n",
        "\n",
        "\n",
        "        if hour < 1 or hour > 12 or minute < 0 or minute > 59:\n",
        "            raise ValueError(\"Hour and minute values are out of range\")\n",
        "\n",
        "        else:\n",
        "            angle = calculateAngle(hour,minute)\n",
        "            print(f\"The minor angle between the hour and minute hands is: {int(angle)}°\")\n",
        "\n",
        "    except ValueError as e:\n",
        "        print(\"Error: \", e)\n",
        "        print(\"Please enter valid hour (1-12) and minute (0-59) values.\")\n",
        "    except KeyboardInterrupt:\n",
        "        print(\"Input interrupted by user\")\n",
        "\n",
        "\n"
      ],
      "metadata": {
        "id": "5AWIgMA0IESK"
      },
      "execution_count": 40,
      "outputs": []
    },
    {
      "cell_type": "code",
      "source": [
        "def calculateAngle(hour, minute):\n",
        "    angleHour = ((hour + (minute/60)) * 30)\n",
        "    angleMinute = minute * 6\n",
        "    angleA = abs(angleHour - angleMinute)\n",
        "    if angleMinute > angleHour:\n",
        "        angleB = (360-angleMinute) + angleHour\n",
        "    else:\n",
        "        angleB = (360-angleHour) + angleMinute\n",
        "    if angleA < angleB:\n",
        "        return angleA\n",
        "    else:\n",
        "        return angleB\n",
        "\n",
        "main()\n"
      ],
      "metadata": {
        "colab": {
          "base_uri": "https://localhost:8080/"
        },
        "id": "Q8lpAVzZJllf",
        "outputId": "75180874-e450-4f79-e5c2-67c1db2b46a9"
      },
      "execution_count": 42,
      "outputs": [
        {
          "output_type": "stream",
          "name": "stdout",
          "text": [
            "Enter the hour in the range (1 - 12): 15\n",
            "Enter the Minutes in the range (0 - 59): -6\n",
            "Error:  Hour and minute values are out of range\n",
            "Please enter valid hour (1-12) and minute (0-59) values.\n"
          ]
        }
      ]
    }
  ]
}