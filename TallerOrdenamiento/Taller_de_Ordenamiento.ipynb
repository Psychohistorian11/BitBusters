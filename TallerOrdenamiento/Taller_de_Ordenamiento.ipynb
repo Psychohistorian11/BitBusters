{
  "cells": [
    {
      "cell_type": "markdown",
      "metadata": {
        "id": "view-in-github",
        "colab_type": "text"
      },
      "source": [
        "<a href=\"https://colab.research.google.com/github/Psychohistorian11/BitBusters/blob/master/TallerOrdenamiento/Taller_de_Ordenamiento.ipynb\" target=\"_parent\"><img src=\"https://colab.research.google.com/assets/colab-badge.svg\" alt=\"Open In Colab\"/></a>"
      ]
    },
    {
      "cell_type": "markdown",
      "metadata": {
        "id": "yefHeHYlmC8o"
      },
      "source": [
        "# IMPORTANTE\n",
        "\n",
        "## Debes ejecutar TODO el Notebook\n",
        "\n",
        "### Lo puedes hacer así: Entorno de ejecución -> Ejecutar todo\n",
        "\n",
        "#### Al final del Notebook encontrarás la consola de interacción.\n",
        "\n",
        "* Counting Sort funciona para números enteros\n",
        "* Radix Sort sólo para números naturales\n",
        "* El resto funciona para los Reales"
      ]
    },
    {
      "cell_type": "code",
      "execution_count": 17,
      "metadata": {
        "id": "yPOd-NxmScCW"
      },
      "outputs": [],
      "source": [
        "def MergeSort(lista_izquierda, lista_derecha):\n",
        "  lista_resultado = []\n",
        "\n",
        "  while(len(lista_izquierda) > 0 and len(lista_derecha) > 0):\n",
        "    if lista_izquierda[0] < lista_derecha[0]:\n",
        "      lista_resultado.append(lista_izquierda[0])\n",
        "      lista_izquierda = lista_izquierda[1:]\n",
        "    else:\n",
        "      lista_resultado.append(lista_derecha[0])\n",
        "      lista_derecha = lista_derecha[1:]\n",
        "\n",
        "  if len(lista_derecha) > 0:\n",
        "    lista_resultado = lista_resultado + lista_derecha\n",
        "  if len(lista_izquierda) > 0:\n",
        "    lista_resultado = lista_resultado + lista_izquierda\n",
        "\n",
        "  return lista_resultado\n",
        "\n",
        "def Merge(lista):\n",
        "  # Caso Base\n",
        "  largo = len(lista)\n",
        "  if largo <= 1:\n",
        "    return lista\n",
        "  # Dividir el arreglo\n",
        "  lista_izq = lista[:len(lista)//2]\n",
        "  lista_der = lista[len(lista)//2:]\n",
        "\n",
        "  lista_izq = Merge(lista_izq)\n",
        "  lista_der = Merge(lista_der)\n",
        "\n",
        "  return MergeSort(lista_izq,lista_der)"
      ]
    },
    {
      "cell_type": "code",
      "execution_count": 18,
      "metadata": {
        "id": "-TOBK8IfZLic"
      },
      "outputs": [],
      "source": [
        "def Quick(lista):\n",
        "  # Caso Base\n",
        "  largo = len(lista)\n",
        "  if largo <= 1:\n",
        "    return lista\n",
        "\n",
        "  pivote = lista.pop()\n",
        "  lista1 = []\n",
        "  lista2 = []\n",
        "\n",
        "  for i in lista:\n",
        "    if i <= pivote:\n",
        "      lista1.append(i)\n",
        "    else:\n",
        "      lista2.append(i)\n",
        "\n",
        "  lista1 = Quick(lista1)\n",
        "  lista2 = Quick(lista2)\n",
        "\n",
        "  return lista1 + [pivote] + lista2"
      ]
    },
    {
      "cell_type": "code",
      "execution_count": 19,
      "metadata": {
        "id": "uyxTIdojCGhY"
      },
      "outputs": [],
      "source": [
        "def Counting(arr):\n",
        "    numero_menor = min(arr)\n",
        "    numero_mayor = max(arr)\n",
        "    arreglo_contador = [0 for _ in range(numero_menor, numero_mayor+1)]\n",
        "    arreglo_final = [0 for _ in range(0,len(arr))]\n",
        "    for numero in arr:\n",
        "        if numero_menor <0:\n",
        "            if numero < 0:\n",
        "                arreglo_contador[(numero_menor*-1)+numero]+=1\n",
        "            elif numero ==0:\n",
        "                arreglo_contador[(numero_menor * -1)] += 1\n",
        "            elif numero >0:\n",
        "                arreglo_contador[(numero_menor* -1)+numero]+=1\n",
        "        if numero_menor>=0:\n",
        "            arreglo_contador[numero-numero_menor]+=1\n",
        "\n",
        "    for i in range(len(arreglo_contador)-1):\n",
        "        arreglo_contador[i+1] = arreglo_contador[i]+arreglo_contador[i+1]\n",
        "    for numero in arr:\n",
        "        if numero_menor<0:\n",
        "            if numero <0:\n",
        "                arreglo_final[arreglo_contador[(numero_menor*-1)+numero]-1]=numero\n",
        "                arreglo_contador[(numero_menor*-1)+numero] -=1\n",
        "            elif numero == 0:\n",
        "                arreglo_final[arreglo_contador[(numero_menor *-1)]-1]=numero\n",
        "                arreglo_contador[(numero_menor*-1)] -= 1\n",
        "            elif numero >0:\n",
        "                arreglo_final[arreglo_contador[(numero_menor* -1)+numero]-1]=numero\n",
        "                arreglo_contador[(numero_menor*-1+numero)] -=1\n",
        "        if numero_menor >=0:\n",
        "            arreglo_final[arreglo_contador[numero-numero_menor]-1]=numero\n",
        "            arreglo_contador[numero-numero_menor]-=1\n",
        "    return arreglo_final"
      ]
    },
    {
      "cell_type": "code",
      "execution_count": 20,
      "metadata": {
        "id": "oZOI5UyjcozA"
      },
      "outputs": [],
      "source": [
        "def Bucket(lista):\n",
        "  max_lista = max(lista)\n",
        "  min_lista = min(lista)\n",
        "\n",
        "  rango=0\n",
        "  if True:\n",
        "    rango= (max_lista-min_lista)/(len(lista)-1)\n",
        "  else:\n",
        "    rango = 1\n",
        "\n",
        "  buckets = [[] for _ in range(len(lista))]\n",
        "\n",
        "  for i in lista:\n",
        "    index = int((i-min_lista)/rango)\n",
        "    if index == len(lista):\n",
        "      index -= 1\n",
        "    buckets[index].append(i)\n",
        "\n",
        "  resultado = []\n",
        "  for bucket in buckets:\n",
        "    bucket = Quick(bucket)\n",
        "    resultado.extend(bucket)\n",
        "\n",
        "  return resultado"
      ]
    },
    {
      "cell_type": "code",
      "execution_count": 21,
      "metadata": {
        "id": "iDWAjwIlodTL"
      },
      "outputs": [],
      "source": [
        "def heapify(arr, n, i):\n",
        "    mayor = i\n",
        "    izquierda = 2 * i + 1\n",
        "    derecha = 2 * i + 2\n",
        "\n",
        "    if izquierda < n and arr[izquierda] > arr[mayor]:\n",
        "        mayor = izquierda\n",
        "\n",
        "    if derecha < n and arr[derecha] > arr[mayor]:\n",
        "        mayor = derecha\n",
        "\n",
        "    if mayor != i:\n",
        "        arr[i], arr[mayor] = arr[mayor], arr[i]\n",
        "        heapify(arr, n, mayor)\n",
        "\n",
        "def Heap(arr):\n",
        "    n = len(arr)\n",
        "\n",
        "    for i in range(n // 2 - 1, -1, -1):\n",
        "        heapify(arr, n, i)\n",
        "\n",
        "    for i in range(n - 1, 0, -1):\n",
        "        arr[i], arr[0] = arr[0], arr[i]\n",
        "        heapify(arr, i, 0)\n",
        "\n",
        "    return arr"
      ]
    },
    {
      "cell_type": "code",
      "execution_count": 22,
      "metadata": {
        "id": "T2uvvMS1oeY8"
      },
      "outputs": [],
      "source": [
        "def counting_s(arr, exp):\n",
        "    n = len(arr)\n",
        "    output = [0] * n\n",
        "    count = [0] * 10\n",
        "\n",
        "    for i in range(n):\n",
        "        index = (arr[i] // exp)\n",
        "        count[index % 10] += 1\n",
        "\n",
        "    for i in range(1, 10):\n",
        "        count[i] += count[i - 1]\n",
        "\n",
        "    i = n - 1\n",
        "    while i >= 0:\n",
        "        index = (arr[i] // exp)\n",
        "        output[count[index % 10] - 1] = arr[i]\n",
        "        count[index % 10] -= 1\n",
        "        i -= 1\n",
        "\n",
        "    i=0\n",
        "    for i in range(len(arr)):\n",
        "        arr[i] = output[i]\n",
        "\n",
        "def Radix(arr):\n",
        "    max_element = max(arr)\n",
        "\n",
        "    exp = 1\n",
        "    while max_element // exp >= 1:\n",
        "        counting_s(arr, exp)\n",
        "        exp *= 10\n",
        "    print(arr)\n",
        "    return arr"
      ]
    },
    {
      "cell_type": "code",
      "execution_count": 39,
      "metadata": {
        "colab": {
          "base_uri": "https://localhost:8080/",
          "height": 512
        },
        "id": "Y7b2D7HR-hP4",
        "outputId": "27edcecd-1768-4399-f632-f6762bdfed04"
      },
      "outputs": [
        {
          "output_type": "stream",
          "name": "stdout",
          "text": [
            "Si en algun momento no aparece el cuadro de texto, por favor inicie de nuevo el programa\n",
            "Al momento de ver los datos, la columna resaltada con flechas ----> <---- es la columna por la que se ordenaron los datos\n",
            "Elige columna:\n",
            " - 0:nit - 1:ciiu - 2:ingresos_operacionales \n",
            " - 3:ganancia_p_rdida - 4:total_activos - 5:total_pasivos \n",
            " - 6:total_patrimonio - 7:a_o_de_corte\n"
          ]
        },
        {
          "output_type": "error",
          "ename": "KeyboardInterrupt",
          "evalue": "ignored",
          "traceback": [
            "\u001b[0;31m---------------------------------------------------------------------------\u001b[0m",
            "\u001b[0;31mKeyboardInterrupt\u001b[0m                         Traceback (most recent call last)",
            "\u001b[0;32m<ipython-input-39-14c1b1ec9182>\u001b[0m in \u001b[0;36m<cell line: 47>\u001b[0;34m()\u001b[0m\n\u001b[1;32m     49\u001b[0m   \u001b[0mprint\u001b[0m\u001b[0;34m(\u001b[0m\u001b[0;34m\"Al momento de ver los datos, la columna resaltada con flechas ----> <---- es la columna por la que se ordenaron los datos\"\u001b[0m\u001b[0;34m)\u001b[0m\u001b[0;34m\u001b[0m\u001b[0;34m\u001b[0m\u001b[0m\n\u001b[1;32m     50\u001b[0m   \u001b[0mprint\u001b[0m\u001b[0;34m(\u001b[0m\u001b[0;34m\"Elige columna:\\n - 0:nit - 1:ciiu - 2:ingresos_operacionales \\n - 3:ganancia_p_rdida - 4:total_activos - 5:total_pasivos \\n - 6:total_patrimonio - 7:a_o_de_corte\"\u001b[0m\u001b[0;34m)\u001b[0m\u001b[0;34m\u001b[0m\u001b[0;34m\u001b[0m\u001b[0m\n\u001b[0;32m---> 51\u001b[0;31m   \u001b[0mindex_col\u001b[0m \u001b[0;34m=\u001b[0m \u001b[0mint\u001b[0m\u001b[0;34m(\u001b[0m\u001b[0minput\u001b[0m\u001b[0;34m(\u001b[0m\u001b[0;34m)\u001b[0m\u001b[0;34m)\u001b[0m\u001b[0;34m\u001b[0m\u001b[0;34m\u001b[0m\u001b[0m\n\u001b[0m\u001b[1;32m     52\u001b[0m   \u001b[0mcolumns\u001b[0m \u001b[0;34m=\u001b[0m \u001b[0mlist\u001b[0m\u001b[0;34m(\u001b[0m\u001b[0mdict_column_index\u001b[0m\u001b[0;34m.\u001b[0m\u001b[0mkeys\u001b[0m\u001b[0;34m(\u001b[0m\u001b[0;34m)\u001b[0m\u001b[0;34m)\u001b[0m\u001b[0;34m\u001b[0m\u001b[0;34m\u001b[0m\u001b[0m\n\u001b[1;32m     53\u001b[0m   \u001b[0mcolumn_name\u001b[0m \u001b[0;34m=\u001b[0m \u001b[0mcolumns\u001b[0m\u001b[0;34m[\u001b[0m\u001b[0mindex_col\u001b[0m\u001b[0;34m]\u001b[0m\u001b[0;34m\u001b[0m\u001b[0;34m\u001b[0m\u001b[0m\n",
            "\u001b[0;32m/usr/local/lib/python3.10/dist-packages/ipykernel/kernelbase.py\u001b[0m in \u001b[0;36mraw_input\u001b[0;34m(self, prompt)\u001b[0m\n\u001b[1;32m    849\u001b[0m                 \u001b[0;34m\"raw_input was called, but this frontend does not support input requests.\"\u001b[0m\u001b[0;34m\u001b[0m\u001b[0;34m\u001b[0m\u001b[0m\n\u001b[1;32m    850\u001b[0m             )\n\u001b[0;32m--> 851\u001b[0;31m         return self._input_request(str(prompt),\n\u001b[0m\u001b[1;32m    852\u001b[0m             \u001b[0mself\u001b[0m\u001b[0;34m.\u001b[0m\u001b[0m_parent_ident\u001b[0m\u001b[0;34m,\u001b[0m\u001b[0;34m\u001b[0m\u001b[0;34m\u001b[0m\u001b[0m\n\u001b[1;32m    853\u001b[0m             \u001b[0mself\u001b[0m\u001b[0;34m.\u001b[0m\u001b[0m_parent_header\u001b[0m\u001b[0;34m,\u001b[0m\u001b[0;34m\u001b[0m\u001b[0;34m\u001b[0m\u001b[0m\n",
            "\u001b[0;32m/usr/local/lib/python3.10/dist-packages/ipykernel/kernelbase.py\u001b[0m in \u001b[0;36m_input_request\u001b[0;34m(self, prompt, ident, parent, password)\u001b[0m\n\u001b[1;32m    893\u001b[0m             \u001b[0;32mexcept\u001b[0m \u001b[0mKeyboardInterrupt\u001b[0m\u001b[0;34m:\u001b[0m\u001b[0;34m\u001b[0m\u001b[0;34m\u001b[0m\u001b[0m\n\u001b[1;32m    894\u001b[0m                 \u001b[0;31m# re-raise KeyboardInterrupt, to truncate traceback\u001b[0m\u001b[0;34m\u001b[0m\u001b[0;34m\u001b[0m\u001b[0m\n\u001b[0;32m--> 895\u001b[0;31m                 \u001b[0;32mraise\u001b[0m \u001b[0mKeyboardInterrupt\u001b[0m\u001b[0;34m(\u001b[0m\u001b[0;34m\"Interrupted by user\"\u001b[0m\u001b[0;34m)\u001b[0m \u001b[0;32mfrom\u001b[0m \u001b[0;32mNone\u001b[0m\u001b[0;34m\u001b[0m\u001b[0;34m\u001b[0m\u001b[0m\n\u001b[0m\u001b[1;32m    896\u001b[0m             \u001b[0;32mexcept\u001b[0m \u001b[0mException\u001b[0m \u001b[0;32mas\u001b[0m \u001b[0me\u001b[0m\u001b[0;34m:\u001b[0m\u001b[0;34m\u001b[0m\u001b[0;34m\u001b[0m\u001b[0m\n\u001b[1;32m    897\u001b[0m                 \u001b[0mself\u001b[0m\u001b[0;34m.\u001b[0m\u001b[0mlog\u001b[0m\u001b[0;34m.\u001b[0m\u001b[0mwarning\u001b[0m\u001b[0;34m(\u001b[0m\u001b[0;34m\"Invalid Message:\"\u001b[0m\u001b[0;34m,\u001b[0m \u001b[0mexc_info\u001b[0m\u001b[0;34m=\u001b[0m\u001b[0;32mTrue\u001b[0m\u001b[0;34m)\u001b[0m\u001b[0;34m\u001b[0m\u001b[0;34m\u001b[0m\u001b[0m\n",
            "\u001b[0;31mKeyboardInterrupt\u001b[0m: Interrupted by user"
          ]
        }
      ],
      "source": [
        "import pandas as pd\n",
        "import json\n",
        "import requests\n",
        "from pandas import json_normalize\n",
        "import ipywidgets as widgets\n",
        "from IPython.display import clear_output\n",
        "import copy\n",
        "\n",
        "dict_column_index = {'nit':0, 'ciiu':6, 'ingresos_operacionales':8,\n",
        "          \"ganancia_p_rdida\":9,\"total_activos\":10,\"total_pasivos\":11,\"total_patrimonio\":12,\n",
        "          \"a_o_de_corte\":13}\n",
        "\n",
        "dict_sort_function = {\n",
        "    'Merge Sort': Merge,\n",
        "    'Quick Sort': Quick,\n",
        "    'Heap Sort': Heap,\n",
        "    'Counting Sort': Counting,\n",
        "    'Radix Sort': Radix,\n",
        "    'Bucket Sort': Bucket,\n",
        "}\n",
        "\n",
        "def obtener_dataf_columnas_numericas():\n",
        "  link = \"https://www.datos.gov.co/resource/6cat-2gcs.json\"\n",
        "\n",
        "  datos = requests.get(link)\n",
        "  data = json.loads(datos.text)\n",
        "  data = json_normalize(data)\n",
        "\n",
        "  for col in dict_column_index.keys():\n",
        "    data[col] = pd.to_numeric(data[col].str.replace('$', ''), errors='coerce')\n",
        "    clear_output()\n",
        "  return data\n",
        "\n",
        "def ordenar(m_original, columna_ordenada, nombre_columna):\n",
        "  m_definitiva = []\n",
        "  copia_m_original = copy.deepcopy(m_original)\n",
        "  indice_columna = dict_column_index[nombre_columna]\n",
        "  for i in range(len(columna_ordenada)):\n",
        "    for j in range(len(columna_ordenada)):\n",
        "        if copia_m_original[j][indice_columna] == columna_ordenada[i]:\n",
        "          m_definitiva.append(copy.deepcopy(m_original[j]))\n",
        "          m_definitiva[-1][indice_columna] = \"---------->\" +str(copia_m_original[j][indice_columna])+ \"<----------\"\n",
        "          copia_m_original[j][indice_columna] = None\n",
        "  return m_definitiva\n",
        "\n",
        "d = obtener_dataf_columnas_numericas()\n",
        "while True:\n",
        "  print(\"Si en algun momento no aparece el cuadro de texto, por favor inicie de nuevo el programa\")\n",
        "  print(\"Al momento de ver los datos, la columna resaltada con flechas ----> <---- es la columna por la que se ordenaron los datos\")\n",
        "  print(\"Elige columna:\\n - 0:nit - 1:ciiu - 2:ingresos_operacionales \\n - 3:ganancia_p_rdida - 4:total_activos - 5:total_pasivos \\n - 6:total_patrimonio - 7:a_o_de_corte\")\n",
        "  index_col = int(input())\n",
        "  columns = list(dict_column_index.keys())\n",
        "  column_name = columns[index_col]\n",
        "\n",
        "  d = obtener_dataf_columnas_numericas()\n",
        "  print(column_name)\n",
        "  print(\"Elige ordenamiento:\\n - 0:Merge - 1:Quick - 2:Heap - 3:Counting(para int positivos y negativos) \\n - 4:Radix(solo int positivos) - 5:Bucket\")\n",
        "  index_sort = int(input())\n",
        "  sorts = list(dict_sort_function.keys())\n",
        "  sort_name = sorts[index_sort]\n",
        "  ordenamientos_enteros = [\"Counting Sort\", \"Radix Sort\"]\n",
        "  lista_columnas_valores_negativos = [\"ganancia_p_rdida\",\"total_patrimonio\"]\n",
        "  if sort_name == \"Radix Sort\" and column_name in lista_columnas_valores_negativos:\n",
        "    print(\"No puedes ordenar una columna con valores negativos con Radix Sort\")\n",
        "    continue # SALTA LA ITERACIÓN (NO EJECUTA LO QUE ESTÁ DEBAJO)\n",
        "  l_ord= []\n",
        "  if sort_name in ordenamientos_enteros:\n",
        "    d[column_name] = d[column_name].astype(int)\n",
        "    l_ord = dict_sort_function[sort_name](d[column_name].tolist())\n",
        "  else:\n",
        "    #d[column_name] = pd.to_numeric(d[column_name])\n",
        "    l_ord = dict_sort_function[sort_name](d[column_name].tolist())\n",
        "  matriz = d.values.tolist()\n",
        "  m = ordenar(matriz, l_ord, column_name)\n",
        "  for i in range(len(m)):\n",
        "    print(m[i])"
      ]
    }
  ],
  "metadata": {
    "colab": {
      "provenance": [],
      "include_colab_link": true
    },
    "kernelspec": {
      "display_name": "Python 3",
      "name": "python3"
    },
    "language_info": {
      "name": "python"
    }
  },
  "nbformat": 4,
  "nbformat_minor": 0
}